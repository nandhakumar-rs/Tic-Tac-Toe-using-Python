{
 "cells": [
  {
   "cell_type": "code",
   "execution_count": 2,
   "metadata": {
    "collapsed": true
   },
   "outputs": [],
   "source": [
    "from IPython.display import clear_output\n",
    "from __future__ import print_function\n",
    "\n",
    "def display_board(board):\n",
    "    clear_output()\n",
    "    print('   |   |')\n",
    "    print(' ' + board[7] + ' | ' + board[8] + ' | ' + board[9])\n",
    "    print('   |   |')\n",
    "    print('-----------')\n",
    "    print('   |   |')\n",
    "    print(' ' + board[4] + ' | ' + board[5] + ' | ' + board[6])\n",
    "    print('   |   |')\n",
    "    print('-----------')\n",
    "    print('   |   |')\n",
    "    print(' ' + board[1] + ' | ' + board[2] + ' | ' + board[3])\n",
    "    print('   |   |')"
   ]
  },
  {
   "cell_type": "code",
   "execution_count": 3,
   "metadata": {
    "collapsed": true
   },
   "outputs": [],
   "source": [
    "def choose():\n",
    "    \n",
    "    p1 = raw_input('CHOOSE x OR o?')\n",
    "    if p1=='x':\n",
    "        p2 = 'o'\n",
    "    else:\n",
    "        p2 ='x'\n",
    "    return p1,p2"
   ]
  },
  {
   "cell_type": "code",
   "execution_count": 4,
   "metadata": {
    "collapsed": true
   },
   "outputs": [],
   "source": [
    "def inp(board,p,pos):\n",
    "    board[pos] = p"
   ]
  },
  {
   "cell_type": "code",
   "execution_count": 5,
   "metadata": {
    "collapsed": true
   },
   "outputs": [],
   "source": [
    "def win(board,p):\n",
    "    if((board[1]==p and board[2]==p and board[3] == p) or\n",
    "       (board[1]==p and board[5]==p and board[9] == p) or\n",
    "       (board[1]==p and board[4]==p and board[7] == p) or\n",
    "       (board[3]==p and board[6]==p and board[9] == p) or\n",
    "       (board[9]==p and board[8]==p and board[7] == p) or\n",
    "       (board[8]==p and board[5]==p and board[2] == p) or \n",
    "       (board[4]==p and board[5]==p and board[6] == p) or\n",
    "       (board[7]==p and board[5]==p and board[3] == p)\n",
    "      ):\n",
    "        return True\n",
    "    \n",
    "    \n",
    "    "
   ]
  },
  {
   "cell_type": "code",
   "execution_count": 6,
   "metadata": {
    "collapsed": false
   },
   "outputs": [],
   "source": [
    "def start():\n",
    "    (p1,p2) = choose()\n",
    "    play = True\n",
    "    board = [' ']*10\n",
    "    turn ='p1'\n",
    "    while play:\n",
    "            if turn == 'p1':\n",
    "                display_board(board)\n",
    "                pos = int(raw_input('Enter The Position...'))\n",
    "                while not check(board,pos):\n",
    "                    pos = int(raw_input('You Entered A Position Which Is Already Exist....Try Again!!!'))\n",
    "                inp(board,p1,pos)\n",
    "                if win(board,p1):\n",
    "                    display_board(board)\n",
    "                    print('PLAYER1 WON!!!') \n",
    "                    break\n",
    "                else:\n",
    "                    if full(board):\n",
    "                        display_board(board)\n",
    "                        print('DRAW!!!')\n",
    "                        break    \n",
    "                turn = 'p2'\n",
    "            else:\n",
    "                turn = 'p1'\n",
    "                display_board(board)\n",
    "                pos = int(raw_input('Enter The Position...'))\n",
    "                while not check(board,pos):\n",
    "                    pos = int(raw_input('You Entered A Position Which Is Already Exist....Try Again!!!'))\n",
    "                inp(board,p2,pos)\n",
    "                if win(board,p2):\n",
    "                    display_board(board)\n",
    "                    print('PLAYER2 WON!!!') \n",
    "                    break\n",
    "                else:\n",
    "                    if full(board):\n",
    "                        display_board(board)\n",
    "                        print('DRAW!!!')\n",
    "                        break"
   ]
  },
  {
   "cell_type": "code",
   "execution_count": 7,
   "metadata": {
    "collapsed": false
   },
   "outputs": [],
   "source": [
    "def check(board,pos):\n",
    "    if board[pos] == ' ':\n",
    "        return True"
   ]
  },
  {
   "cell_type": "code",
   "execution_count": 8,
   "metadata": {
    "collapsed": true
   },
   "outputs": [],
   "source": [
    "\n",
    "def empty(board):\n",
    "    if (board[1] == \" \" or board[2] == \" \" or board[3] == \" \" or board[4] == \" \" or board[5] == \" \" or board[6] == \" \" or board[7] == \" \" or board[8] == \" \" or board[9] == \" \"):\n",
    "        return True\n",
    "        "
   ]
  },
  {
   "cell_type": "code",
   "execution_count": 9,
   "metadata": {
    "collapsed": true
   },
   "outputs": [],
   "source": [
    "def full(board):\n",
    "    if empty(board):\n",
    "        return False\n",
    "    else:\n",
    "        return True"
   ]
  },
  {
   "cell_type": "code",
   "execution_count": 13,
   "metadata": {
    "collapsed": false
   },
   "outputs": [
    {
     "name": "stdout",
     "output_type": "stream",
     "text": [
      "   |   |\n",
      "   |   | x\n",
      "   |   |\n",
      "-----------\n",
      "   |   |\n",
      "   | x | o\n",
      "   |   |\n",
      "-----------\n",
      "   |   |\n",
      " x | o |  \n",
      "   |   |\n",
      "PLAYER1 WON!!!\n"
     ]
    }
   ],
   "source": [
    "start()"
   ]
  },
  {
   "cell_type": "code",
   "execution_count": null,
   "metadata": {
    "collapsed": true
   },
   "outputs": [],
   "source": []
  }
 ],
 "metadata": {
  "anaconda-cloud": {},
  "kernelspec": {
   "display_name": "Python [default]",
   "language": "python",
   "name": "python2"
  },
  "language_info": {
   "codemirror_mode": {
    "name": "ipython",
    "version": 2
   },
   "file_extension": ".py",
   "mimetype": "text/x-python",
   "name": "python",
   "nbconvert_exporter": "python",
   "pygments_lexer": "ipython2",
   "version": "2.7.12"
  }
 },
 "nbformat": 4,
 "nbformat_minor": 1
}
